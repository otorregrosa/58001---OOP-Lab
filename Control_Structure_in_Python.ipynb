{
  "nbformat": 4,
  "nbformat_minor": 0,
  "metadata": {
    "colab": {
      "provenance": [],
      "authorship_tag": "ABX9TyN/Y9xQ0l5f6ui7fNJhxVvf",
      "include_colab_link": true
    },
    "kernelspec": {
      "name": "python3",
      "display_name": "Python 3"
    },
    "language_info": {
      "name": "python"
    }
  },
  "cells": [
    {
      "cell_type": "markdown",
      "metadata": {
        "id": "view-in-github",
        "colab_type": "text"
      },
      "source": [
        "<a href=\"https://colab.research.google.com/github/otorregrosa/OOP-Lab-58001/blob/main/Control_Structure_in_Python.ipynb\" target=\"_parent\"><img src=\"https://colab.research.google.com/assets/colab-badge.svg\" alt=\"Open In Colab\"/></a>"
      ]
    },
    {
      "cell_type": "markdown",
      "source": [
        "Conditional Statement"
      ],
      "metadata": {
        "id": "SGroye9fD5mW"
      }
    },
    {
      "cell_type": "code",
      "execution_count": null,
      "metadata": {
        "id": "IDgSY8BQC5PT"
      },
      "outputs": [],
      "source": []
    },
    {
      "cell_type": "markdown",
      "source": [
        "If Statement"
      ],
      "metadata": {
        "id": "OKZvrP8dD4j2"
      }
    },
    {
      "cell_type": "code",
      "source": [
        "a=12\n",
        "b=100\n",
        "if b>a:\n",
        "  print(\"b is greater than a\")"
      ],
      "metadata": {
        "colab": {
          "base_uri": "https://localhost:8080/"
        },
        "id": "fc_sYyGTESb8",
        "outputId": "fec144c1-187d-4b4a-881f-d8a55a02df19"
      },
      "execution_count": 3,
      "outputs": [
        {
          "output_type": "stream",
          "name": "stdout",
          "text": [
            "b is greater than a\n"
          ]
        }
      ]
    },
    {
      "cell_type": "markdown",
      "source": [
        "Elif Statements"
      ],
      "metadata": {
        "id": "3nNxZRItE0e2"
      }
    },
    {
      "cell_type": "code",
      "source": [
        "a=12\n",
        "b=12\n",
        "if b>a:\n",
        "  print(\"b is greater than a\")\n",
        "elif a==b:\n",
        "  print(\"a and b are equal\")"
      ],
      "metadata": {
        "colab": {
          "base_uri": "https://localhost:8080/"
        },
        "id": "Ee-vHbzuEYSd",
        "outputId": "9fc68f2b-8d39-4eb3-dcb5-c8c9344492f3"
      },
      "execution_count": 6,
      "outputs": [
        {
          "output_type": "stream",
          "name": "stdout",
          "text": [
            "a and b are equal\n"
          ]
        }
      ]
    },
    {
      "cell_type": "markdown",
      "source": [
        "Else Statements"
      ],
      "metadata": {
        "id": "o4AN0VTdFY3u"
      }
    },
    {
      "cell_type": "code",
      "source": [
        "a=200\n",
        "b=33\n",
        "if b>a:\n",
        "  print(\"b is greater than a\")\n",
        "elif b==a:\n",
        "  print(\"a and b are equal\")\n",
        "else:\n",
        "  print(\"a is greater than b\")"
      ],
      "metadata": {
        "colab": {
          "base_uri": "https://localhost:8080/"
        },
        "id": "ZHWuVfOVFbul",
        "outputId": "c57c3d8f-2a56-4b26-cce0-cb0c8ace60d6"
      },
      "execution_count": 9,
      "outputs": [
        {
          "output_type": "stream",
          "name": "stdout",
          "text": [
            "a is greater than b\n"
          ]
        }
      ]
    },
    {
      "cell_type": "markdown",
      "source": [
        "Short Hand If Statement"
      ],
      "metadata": {
        "id": "38KtegM8F7K9"
      }
    },
    {
      "cell_type": "code",
      "source": [
        "a=5\n",
        "b=1\n",
        "if a>b: print(\"a is greater than b\")"
      ],
      "metadata": {
        "colab": {
          "base_uri": "https://localhost:8080/"
        },
        "id": "sM81FeBIGAV1",
        "outputId": "9eb4427b-b9fd-4e62-9f99-107f4df7c91c"
      },
      "execution_count": 11,
      "outputs": [
        {
          "output_type": "stream",
          "name": "stdout",
          "text": [
            "a is greater than b\n"
          ]
        }
      ]
    },
    {
      "cell_type": "markdown",
      "source": [
        "If Statement with Input"
      ],
      "metadata": {
        "id": "IE7FjFW0HVcu"
      }
    },
    {
      "cell_type": "code",
      "source": [
        "x=int(input())\n",
        "y=int(input())\n",
        "if x>y: print(x, \"is greater than\", y)"
      ],
      "metadata": {
        "colab": {
          "base_uri": "https://localhost:8080/"
        },
        "id": "9MD1EaaeHWN1",
        "outputId": "6aa6e150-f33c-4abd-825b-f6955b0c5212"
      },
      "execution_count": 21,
      "outputs": [
        {
          "output_type": "stream",
          "name": "stdout",
          "text": [
            "12\n",
            "5\n",
            "12 is greater than 5\n"
          ]
        }
      ]
    },
    {
      "cell_type": "markdown",
      "source": [
        "Short hand If Else Statement"
      ],
      "metadata": {
        "id": "U9kWu82jIu_l"
      }
    },
    {
      "cell_type": "code",
      "source": [
        "a=2\n",
        "b=330\n",
        "print(\"A\") if a>b else print(\"B\")"
      ],
      "metadata": {
        "colab": {
          "base_uri": "https://localhost:8080/"
        },
        "id": "RXunVOA_I1oE",
        "outputId": "a07b73c4-1131-4db3-beed-43cc3deba1f9"
      },
      "execution_count": 22,
      "outputs": [
        {
          "output_type": "stream",
          "name": "stdout",
          "text": [
            "B\n"
          ]
        }
      ]
    },
    {
      "cell_type": "markdown",
      "source": [
        "Nested If:"
      ],
      "metadata": {
        "id": "18bBWDJrJOEd"
      }
    },
    {
      "cell_type": "code",
      "source": [
        "x = 41\n",
        "if x > 10:\n",
        "  print(\"Above ten,\")\n",
        "if x > 20:\n",
        "  print(\"and also above 20!\")\n",
        "if x > 30:\n",
        "  print(\"and also above 30!\")\n",
        "if x > 40:\n",
        "  print(\"and also above 40!\")\n",
        "if x < 50:\n",
        "  print(\"but not above 50.\") \n",
        "else:\n",
        "  print(\"but not above 20.\")"
      ],
      "metadata": {
        "colab": {
          "base_uri": "https://localhost:8080/"
        },
        "id": "0aohFeK5JQW9",
        "outputId": "503146ba-0f88-4bfa-ee41-4be9241f4d37"
      },
      "execution_count": 36,
      "outputs": [
        {
          "output_type": "stream",
          "name": "stdout",
          "text": [
            "Above ten,\n",
            "and also above 20!\n",
            "and also above 30!\n",
            "and also above 40!\n",
            "but not above 50.\n"
          ]
        }
      ]
    },
    {
      "cell_type": "markdown",
      "source": [
        "Example 1"
      ],
      "metadata": {
        "id": "y-rl8SPQL6xl"
      }
    },
    {
      "cell_type": "code",
      "source": [
        "print(\"Please input your age\")\n",
        "x=int(input())\n",
        "if x>=18:\n",
        "  print(\"You are qualified to vote!\")\n",
        "else:\n",
        "  print(\"You are not qualified to vote\")\n"
      ],
      "metadata": {
        "colab": {
          "base_uri": "https://localhost:8080/"
        },
        "id": "zN2rubzvL9Mt",
        "outputId": "bf603886-f9c5-44db-8750-f371dd9f22f4"
      },
      "execution_count": 43,
      "outputs": [
        {
          "output_type": "stream",
          "name": "stdout",
          "text": [
            "Please input your age\n",
            "22\n",
            "You are qualified to vote!\n"
          ]
        }
      ]
    },
    {
      "cell_type": "markdown",
      "source": [
        "Example 2"
      ],
      "metadata": {
        "id": "yBN4oAsuL909"
      }
    },
    {
      "cell_type": "code",
      "source": [
        "print(\"Enter an integer\")\n",
        "x=int(input())\n",
        "if x>0:\n",
        "  print(\"POSITIVE\")\n",
        "elif x<0:\n",
        "  print(\"NEGATIVE\")\n",
        "else: \n",
        "  print(\"ZERO\")"
      ],
      "metadata": {
        "colab": {
          "base_uri": "https://localhost:8080/"
        },
        "id": "hzeblXzCL_Tk",
        "outputId": "89d93860-d83f-45d2-c13e-998fb164eb33"
      },
      "execution_count": 55,
      "outputs": [
        {
          "output_type": "stream",
          "name": "stdout",
          "text": [
            "Enter an integer\n",
            "-89\n",
            "NEGATIVE\n"
          ]
        }
      ]
    },
    {
      "cell_type": "markdown",
      "source": [
        "Example 3"
      ],
      "metadata": {
        "id": "RF32iPdJL_t0"
      }
    },
    {
      "cell_type": "code",
      "source": [
        "print(\"Input your grade\")\n",
        "x=int(input())\n",
        "if x > 100:\n",
        "  print(\"Error\")\n",
        "elif x >= 70:\n",
        "  print(\"PASSED\")\n",
        "elif x >= 65:\n",
        "  print(\"REMEDIAL\")\n",
        "elif x >= 0:\n",
        "  print(\"FAILED\")\n",
        "else:\n",
        "  print(\"Error\")"
      ],
      "metadata": {
        "colab": {
          "base_uri": "https://localhost:8080/"
        },
        "id": "_jANL4Y-MAtl",
        "outputId": "c424e5e4-14dc-4113-e73f-84b67233ed8e"
      },
      "execution_count": 95,
      "outputs": [
        {
          "output_type": "stream",
          "name": "stdout",
          "text": [
            "Input your grade\n",
            "-89\n",
            "Error\n"
          ]
        }
      ]
    },
    {
      "cell_type": "code",
      "source": [],
      "metadata": {
        "id": "uSal2056UZJb"
      },
      "execution_count": null,
      "outputs": []
    }
  ]
}