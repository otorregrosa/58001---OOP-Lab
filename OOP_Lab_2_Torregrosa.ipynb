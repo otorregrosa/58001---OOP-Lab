{
  "nbformat": 4,
  "nbformat_minor": 0,
  "metadata": {
    "colab": {
      "provenance": [],
      "authorship_tag": "ABX9TyOunwyVcBsNGV8rBgqgLLyZ",
      "include_colab_link": true
    },
    "kernelspec": {
      "name": "python3",
      "display_name": "Python 3"
    },
    "language_info": {
      "name": "python"
    }
  },
  "cells": [
    {
      "cell_type": "markdown",
      "metadata": {
        "id": "view-in-github",
        "colab_type": "text"
      },
      "source": [
        "<a href=\"https://colab.research.google.com/github/otorregrosa/OOP-Lab-58001/blob/main/OOP_Lab_2_Torregrosa.ipynb\" target=\"_parent\"><img src=\"https://colab.research.google.com/assets/colab-badge.svg\" alt=\"Open In Colab\"/></a>"
      ]
    },
    {
      "cell_type": "code",
      "execution_count": null,
      "metadata": {
        "id": "X3qBruJREaiM"
      },
      "outputs": [],
      "source": [
        "# Write a Python program that asks the user to enter the radius of a circle and solve its area and perimeter.\n",
        "# Create a class name Circle allowing you to build a circle with radius and pi attributes.\n",
        "# Create a method Display() the perimeter and area using an instantiation of a class.\n",
        "# Create a Perimeter() method to calculate the perimeter of the circle and an Area() method to calculate the area of ​​the circle."
      ]
    },
    {
      "cell_type": "code",
      "source": [
        "class circle():\n",
        "    def __init__(self,radius):\n",
        "        self.radius=radius\n",
        "\n",
        "    def area(self):\n",
        "        return self.radius**2*3.14\n",
        "\n",
        "    def perimeter(self):\n",
        "        return 2*self.radius*3.14\n",
        " \n",
        "r=int(input(\"Enter radius of circle: \"))\n",
        "obj=circle(r)\n",
        "print(\"Area of circle:\",round(obj.area(),2))\n",
        "print(\"Perimeter of circle:\",round(obj.perimeter(),2))"
      ],
      "metadata": {
        "colab": {
          "base_uri": "https://localhost:8080/"
        },
        "id": "W43vBAAVEv4u",
        "outputId": "f994c130-f6b1-4c15-e801-5290276915d1"
      },
      "execution_count": 2,
      "outputs": [
        {
          "output_type": "stream",
          "name": "stdout",
          "text": [
            "Enter radius of circle: 5\n",
            "Area of circle: 78.5\n",
            "Perimeter of circle: 31.4\n"
          ]
        }
      ]
    }
  ]
}