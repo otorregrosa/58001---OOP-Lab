{
  "nbformat": 4,
  "nbformat_minor": 0,
  "metadata": {
    "colab": {
      "provenance": [],
      "authorship_tag": "ABX9TyOYq/HhttOyRn/pq0A9jbKF",
      "include_colab_link": true
    },
    "kernelspec": {
      "name": "python3",
      "display_name": "Python 3"
    },
    "language_info": {
      "name": "python"
    }
  },
  "cells": [
    {
      "cell_type": "markdown",
      "metadata": {
        "id": "view-in-github",
        "colab_type": "text"
      },
      "source": [
        "<a href=\"https://colab.research.google.com/github/otorregrosa/OOP-Lab-58001/blob/main/Hands_On_1.ipynb\" target=\"_parent\"><img src=\"https://colab.research.google.com/assets/colab-badge.svg\" alt=\"Open In Colab\"/></a>"
      ]
    },
    {
      "cell_type": "code",
      "source": [
        "#Di ko po pala nasave ma'am pasensya po\n",
        "class Students:\n",
        "    def __init__(self, name, pre, mid, fin):\n",
        "        self.name = name\n",
        "        self.pre = pre\n",
        "        self.mid = mid\n",
        "        self.fin = fin\n",
        "    def ave(self):\n",
        "        self.average = (self.pre + self.mid + self.fin) / 3\n",
        "    def show(self):\n",
        "        self.ave()\n",
        "        print(\"Name: \", self.name)\n",
        "        print(\"Prelim Grade: \", self.pre)\n",
        "        print(\"Midterm Grade: \", self.mid)\n",
        "        print(\"Final Grade: \", self.fin)\n",
        "        if self.average >= 70:\n",
        "            self.status = \"Passed\"\n",
        "        else:\n",
        "            self.status = \"Failed\"\n",
        "        print(\"Average Grade: {} ({})\".format(round(self.average,0), self.status)) \n",
        "print()\n",
        "print(\"Student's Average Grade \")\n",
        "print()\n",
        "Name = str(input(\"Enter Name: \"))\n",
        "pre = float(input(\"Enter Prelim: \"))\n",
        "mid = float(input(\"Enter Midterm: \"))\n",
        "fin = float(input(\"Enter Finals: \"))\n",
        "print()\n",
        "stud = Students(Name, pre, mid, fin)\n",
        "stud.show()"
      ],
      "metadata": {
        "colab": {
          "base_uri": "https://localhost:8080/"
        },
        "id": "MgKXmzp-diZg",
        "outputId": "5752af27-5e38-471b-f0ce-85f7f7461fe6"
      },
      "execution_count": 11,
      "outputs": [
        {
          "output_type": "stream",
          "name": "stdout",
          "text": [
            "\n",
            "Student's Average Grade \n",
            "\n",
            "Enter Name: othello\n",
            "Enter Prelim: 70\n",
            "Enter Midterm: 78\n",
            "Enter Finals: 79\n",
            "\n",
            "Name:  othello\n",
            "Prelim Grade:  70.0\n",
            "Midterm Grade:  78.0\n",
            "Final Grade:  79.0\n",
            "Average Grade: 76.0 (Passed)\n"
          ]
        }
      ]
    }
  ]
}