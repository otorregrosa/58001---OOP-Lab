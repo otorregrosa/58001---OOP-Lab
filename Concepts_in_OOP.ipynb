{
  "nbformat": 4,
  "nbformat_minor": 0,
  "metadata": {
    "colab": {
      "provenance": [],
      "authorship_tag": "ABX9TyND8Ifzx+mxGOKlMOfuYqUM",
      "include_colab_link": true
    },
    "kernelspec": {
      "name": "python3",
      "display_name": "Python 3"
    },
    "language_info": {
      "name": "python"
    }
  },
  "cells": [
    {
      "cell_type": "markdown",
      "metadata": {
        "id": "view-in-github",
        "colab_type": "text"
      },
      "source": [
        "<a href=\"https://colab.research.google.com/github/otorregrosa/OOP-Lab-58001/blob/main/Concepts_in_OOP.ipynb\" target=\"_parent\"><img src=\"https://colab.research.google.com/assets/colab-badge.svg\" alt=\"Open In Colab\"/></a>"
      ]
    },
    {
      "cell_type": "code",
      "execution_count": 1,
      "metadata": {
        "id": "M65ehAi2PX3D"
      },
      "outputs": [],
      "source": [
        "#Class constructor\n",
        "class Car:\n",
        "  pass"
      ]
    },
    {
      "cell_type": "code",
      "source": [
        "#Create a Class\n",
        "\n",
        "class MyNumber:\n",
        "  x=5\n",
        "\n",
        "\n",
        "num1 = MyNumber()\n",
        "print(num1.x)"
      ],
      "metadata": {
        "colab": {
          "base_uri": "https://localhost:8080/"
        },
        "id": "c4QUkrSQPid1",
        "outputId": "7b7951c2-222d-4a79-f7be-a67ae9e37023"
      },
      "execution_count": 2,
      "outputs": [
        {
          "output_type": "stream",
          "name": "stdout",
          "text": [
            "5\n"
          ]
        }
      ]
    },
    {
      "cell_type": "code",
      "source": [
        "class Person:\n",
        "  def __init__(self,name,age):\n",
        "    self.name = name\n",
        "    self.age  = age\n",
        "\n",
        "  def myFunction(self):\n",
        "    print(\"Hello my name is\", self.name)\n",
        "person = Person(\"Ana\",36)\n",
        "person.myFunction()\n",
        "print(person.age)\n",
        "print(person.name)"
      ],
      "metadata": {
        "colab": {
          "base_uri": "https://localhost:8080/"
        },
        "id": "XR9B-w-YP3I7",
        "outputId": "f952032b-e1a4-472d-a202-a300714004d3"
      },
      "execution_count": 5,
      "outputs": [
        {
          "output_type": "stream",
          "name": "stdout",
          "text": [
            "Hello my name is Ana\n",
            "36\n",
            "Ana\n"
          ]
        }
      ]
    },
    {
      "cell_type": "code",
      "source": [
        "#Modify the object properties\n",
        "\n",
        "person.name = \"Marco\"\n",
        "person.myFunction()"
      ],
      "metadata": {
        "colab": {
          "base_uri": "https://localhost:8080/"
        },
        "id": "2qV-pMcTRAsa",
        "outputId": "2b4b91d9-f9e3-406e-980e-414e317fe7ff"
      },
      "execution_count": 7,
      "outputs": [
        {
          "output_type": "stream",
          "name": "stdout",
          "text": [
            "Hello my name is Marco\n"
          ]
        }
      ]
    },
    {
      "cell_type": "code",
      "source": [
        "#deletion of object properties\n",
        "\n",
        "del person.age\n",
        "person.myFunction()\n",
        "print(person.name)"
      ],
      "metadata": {
        "id": "zXmiWNl8SGiQ"
      },
      "execution_count": null,
      "outputs": []
    },
    {
      "cell_type": "code",
      "source": [
        "#compute for the area of square\n",
        "\n",
        "class Shapes:\n",
        "  def __init__(self,side):  #initial function to name the attributes\n",
        "    self.side=side\n",
        "\n",
        "  def area(self):           #method to compute for the area\n",
        "    return self.side*self.side\n",
        "  \n",
        "  def display(self):        #method to display the area\n",
        "    print(\"The area of the square is\", self.area())\n",
        "\n",
        "square = Shapes(4)\n",
        "square.display()\n"
      ],
      "metadata": {
        "colab": {
          "base_uri": "https://localhost:8080/"
        },
        "id": "iQE-P6OlSme4",
        "outputId": "384b33da-c94f-4725-e0e6-50bc0d0d7515"
      },
      "execution_count": 10,
      "outputs": [
        {
          "output_type": "stream",
          "name": "stdout",
          "text": [
            "The area of the square is 16\n"
          ]
        }
      ]
    },
    {
      "cell_type": "code",
      "source": [
        "# create a python program with the following: \n",
        "# Student as class name\n",
        "# fullname, student# and school as attriibute names\n",
        "# construct a method to display the values of attributes\n",
        "# use student as object name"
      ],
      "metadata": {
        "id": "7WkN-W5wUnEc"
      },
      "execution_count": 37,
      "outputs": []
    },
    {
      "cell_type": "code",
      "source": [
        "class Student:\n",
        "  def __init__(self,fullname,number,school):\n",
        "    self.fullname = fullname\n",
        "    self.number  = number\n",
        "    self.school = school\n",
        "\n",
        "  def myFunction(self):\n",
        "    print(\"Student name:\", self.fullname)\n",
        "    print(\"Student number:\", self.number)\n",
        "    print(\"School:\", self.school)\n",
        "student = Student(\"Othello Torregrosa\",201820005,\"Adamson\")\n",
        "student.myFunction()\n",
        "\n"
      ],
      "metadata": {
        "colab": {
          "base_uri": "https://localhost:8080/"
        },
        "id": "Qp4owpnzYoat",
        "outputId": "a1b3170b-f76b-4dad-ad10-d729a2d60101"
      },
      "execution_count": 36,
      "outputs": [
        {
          "output_type": "stream",
          "name": "stdout",
          "text": [
            "Student name: Othello Torregrosa\n",
            "Student number: 201820005\n",
            "School: Adamson\n"
          ]
        }
      ]
    },
    {
      "cell_type": "code",
      "source": [],
      "metadata": {
        "id": "R10EH_iGZQmP"
      },
      "execution_count": null,
      "outputs": []
    }
  ]
}